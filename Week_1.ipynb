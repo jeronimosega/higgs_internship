{
 "cells": [
  {
   "cell_type": "markdown",
   "metadata": {},
   "source": [
    "# Week 1"
   ]
  },
  {
   "cell_type": "markdown",
   "metadata": {},
   "source": [
    "## Setup\n",
    "\n",
    "- Started by reading the previous project's report in order to familiarise myself with the work that is going on and spent the rest of the first day completing the hls4ml tutorial. \n",
    "- Learned how the ssh into the linux machines where I would be working\n",
    "- Cloned  gitlab repository in order to get access to all the necessary files for the workflow.\n",
    "- Downloaded the datasets so that I could start training models.\n"
   ]
  },
  {
   "cell_type": "markdown",
   "metadata": {},
   "source": []
  },
  {
   "cell_type": "markdown",
   "metadata": {},
   "source": []
  },
  {
   "cell_type": "markdown",
   "metadata": {},
   "source": []
  }
 ],
 "metadata": {
  "kernelspec": {
   "display_name": "Python 3.10.5 ('cmsml_env')",
   "language": "python",
   "name": "python3"
  },
  "language_info": {
   "name": "python",
   "version": "3.10.5"
  },
  "orig_nbformat": 4,
  "vscode": {
   "interpreter": {
    "hash": "7f88916186695d0a7b2bfa3cbfa84cb3d99ed5c3db69ba1d99d1bf6a3b07579e"
   }
  }
 },
 "nbformat": 4,
 "nbformat_minor": 2
}
